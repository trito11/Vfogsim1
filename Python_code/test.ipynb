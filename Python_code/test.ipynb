{
 "cells": [
  {
   "cell_type": "code",
   "execution_count": 35,
   "metadata": {},
   "outputs": [
    {
     "name": "stderr",
     "output_type": "stream",
     "text": [
      "<>:8: SyntaxWarning: invalid escape sequence '\\L'\n",
      "<>:8: SyntaxWarning: invalid escape sequence '\\L'\n",
      "C:\\Users\\trith\\AppData\\Local\\Temp\\ipykernel_32828\\1959798128.py:8: SyntaxWarning: invalid escape sequence '\\L'\n",
      "  link=os.path.join('D:\\Lab\\Vfogsim\\Python_code\\Functions')\n"
     ]
    }
   ],
   "source": [
    "import numpy as np\n",
    "import pandas as pd\n",
    "import sys\n",
    "import os\n",
    "import time\n",
    "from math import sqrt\n",
    "from pathlib import Path\n",
    "link=os.path.join('D:\\Lab\\Vfogsim\\Python_code\\Functions')\n",
    "sys.path.append(link)\n",
    "from preprocess import preprocess"
   ]
  },
  {
   "cell_type": "code",
   "execution_count": 4,
   "metadata": {},
   "outputs": [],
   "source": [
    "source = \"100\"  # Dataset\n",
    "bus = preprocess(\"bus.csv\", source)"
   ]
  },
  {
   "cell_type": "code",
   "execution_count": 9,
   "metadata": {},
   "outputs": [
    {
     "data": {
      "text/plain": [
       "array([[  0.    ,   8.83  ,  10.8245,   3.    ],\n",
       "       [  1.    ,   8.59  ,  10.8084,   3.    ],\n",
       "       [  2.    ,   8.22  ,  10.3108,   3.    ],\n",
       "       ...,\n",
       "       [189.    ,   6.98  ,  15.8895,   1.    ],\n",
       "       [190.    ,   7.12  ,  15.7046,   1.    ],\n",
       "       [191.    ,   6.67  ,  15.4433,   1.    ]])"
      ]
     },
     "execution_count": 9,
     "metadata": {},
     "output_type": "execute_result"
    }
   ],
   "source": [
    "bus"
   ]
  },
  {
   "cell_type": "code",
   "execution_count": 14,
   "metadata": {},
   "outputs": [
    {
     "data": {
      "text/plain": [
       "array([[0.000000e+00, 1.000000e+00, 8.830000e+00, 3.861120e+05,\n",
       "        6.671780e+06],\n",
       "       [1.000000e+00, 1.000000e+00, 8.590000e+00, 3.861120e+05,\n",
       "        6.671771e+06],\n",
       "       [2.000000e+00, 1.000000e+00, 8.220000e+00, 3.861130e+05,\n",
       "        6.671763e+06],\n",
       "       ...,\n",
       "       [1.890000e+02, 5.000000e+00, 6.980000e+00, 3.852050e+05,\n",
       "        6.671464e+06],\n",
       "       [1.900000e+02, 5.000000e+00, 7.120000e+00, 3.851990e+05,\n",
       "        6.671460e+06],\n",
       "       [1.910000e+02, 5.000000e+00, 6.670000e+00, 3.851940e+05,\n",
       "        6.671456e+06]])"
      ]
     },
     "execution_count": 14,
     "metadata": {},
     "output_type": "execute_result"
    }
   ],
   "source": [
    "source = \"100\"  # Dataset\n",
    "bus = preprocess(\"bus.csv\", source)\n",
    "bus = np.array(bus)\n",
    "bus = np.delete(bus, [0,3, 4,8,9,10], 1)\n",
    "bus"
   ]
  },
  {
   "cell_type": "code",
   "execution_count": 17,
   "metadata": {},
   "outputs": [],
   "source": [
    "bus_location=dict()\n",
    "for i in range(8):\n",
    "    bus_location[i]=list()\n",
    "for i in range(bus.shape[0]):\n",
    "    time=bus[i,0]\n",
    "    id=bus[i,1]\n",
    "    speed=bus[i,2]\n",
    "    x=bus[i,3]\n",
    "    y=bus[i,4]\n",
    "    bus_location[id].append([time,speed,x,y])\n"
   ]
  },
  {
   "cell_type": "code",
   "execution_count": null,
   "metadata": {},
   "outputs": [],
   "source": [
    "'''\n",
    "TRANSLATION ALD -0.96440 -0.26443 0.00000 0.00 12.00\n",
    "TRANSLATION ALD -0.82020 -0.57207 0.00000 64.29 12.00\n",
    "TRANSLATION ALD -0.80779 -0.58947 0.00000 112.65 12.00\n",
    "TRANSLATION ALD -0.80779 -0.58947 0.00000 158.45 12.00'''"
   ]
  },
  {
   "cell_type": "code",
   "execution_count": 63,
   "metadata": {},
   "outputs": [
    {
     "data": {
      "text/plain": [
       "[[0.0, 8.83, 386112.0, 6671780.0],\n",
       " [1.0, 8.59, 386112.0, 6671771.0],\n",
       " [2.0, 8.22, 386113.0, 6671763.0],\n",
       " [3.0, 8.08, 386113.0, 6671755.0],\n",
       " [4.0, 8.78, 386113.0, 6671746.0],\n",
       " [5.0, 8.11, 386113.0, 6671741.0],\n",
       " [6.0, 7.9, 386114.0, 6671733.0],\n",
       " [7.0, 8.12, 386114.0, 6671725.0],\n",
       " [8.0, 7.67, 386114.0, 6671718.0],\n",
       " [9.0, 7.63, 386114.0, 6671710.0],\n",
       " [10.0, 7.96, 386114.0, 6671703.0],\n",
       " [11.0, 8.83, 386115.0, 6671694.0],\n",
       " [12.0, 6.75, 386115.0, 6671688.0],\n",
       " [13.0, 7.9, 386115.0, 6671680.0],\n",
       " [14.0, 8.02, 386115.0, 6671672.0],\n",
       " [15.0, 8.26, 386116.0, 6671664.0],\n",
       " [16.0, 7.59, 386116.0, 6671656.0],\n",
       " [17.0, 7.74, 386116.0, 6671649.0],\n",
       " [18.0, 8.25, 386116.0, 6671640.0],\n",
       " [19.0, 7.44, 386117.0, 6671633.0],\n",
       " [20.0, 4.0, 386117.0, 6671629.0],\n",
       " [21.0, 5.41, 386117.0, 6671624.0],\n",
       " [22.0, 7.17, 386117.0, 6671616.0],\n",
       " [23.0, 7.99, 386117.0, 6671608.0],\n",
       " [24.0, 8.24, 386118.0, 6671600.0],\n",
       " [25.0, 8.05, 386118.0, 6671592.0],\n",
       " [26.0, 8.19, 386118.0, 6671584.0],\n",
       " [27.0, 7.77, 386118.0, 6671576.0],\n",
       " [28.0, 7.63, 386118.0, 6671569.0],\n",
       " [29.0, 8.27, 386119.0, 6671561.0],\n",
       " [30.0, 7.79, 386119.0, 6671553.0],\n",
       " [31.0, 7.95, 386119.0, 6671545.0],\n",
       " [32.0, 6.35, 386119.0, 6671538.0],\n",
       " [33.0, 8.66, 386119.0, 6671530.0],\n",
       " [34.0, 8.47, 386118.0, 6671521.0],\n",
       " [35.0, 7.81, 386118.0, 6671514.0],\n",
       " [36.0, 8.48, 386118.0, 6671505.0],\n",
       " [37.0, 7.55, 386118.0, 6671498.0],\n",
       " [38.0, 8.11, 386119.0, 6671489.0],\n",
       " [39.0, 6.3, 386119.0, 6671483.0],\n",
       " [40.0, 8.4, 386119.0, 6671475.0],\n",
       " [41.0, 8.76, 386120.0, 6671466.0],\n",
       " [42.0, 8.02, 386121.0, 6671458.0],\n",
       " [43.0, 8.82, 386121.0, 6671450.0],\n",
       " [44.0, 8.63, 386121.0, 6671441.0],\n",
       " [45.0, 8.52, 386121.0, 6671433.0],\n",
       " [46.0, 8.65, 386122.0, 6671424.0],\n",
       " [47.0, 8.27, 386122.0, 6671416.0],\n",
       " [48.0, 8.19, 386122.0, 6671407.0],\n",
       " [49.0, 8.26, 386122.0, 6671399.0],\n",
       " [50.0, 8.2, 386122.0, 6671391.0],\n",
       " [51.0, 6.66, 386123.0, 6671384.0],\n",
       " [52.0, 8.44, 386123.0, 6671376.0],\n",
       " [53.0, 8.22, 386123.0, 6671368.0],\n",
       " [54.0, 7.74, 386123.0, 6671360.0],\n",
       " [55.0, 7.53, 386124.0, 6671353.0],\n",
       " [56.0, 7.62, 386124.0, 6671345.0],\n",
       " [57.0, 7.61, 386124.0, 6671337.0],\n",
       " [58.0, 7.87, 386125.0, 6671330.0],\n",
       " [59.0, 8.05, 386125.0, 6671321.0],\n",
       " [60.0, 8.57, 386125.0, 6671313.0],\n",
       " [61.0, 8.03, 386125.0, 6671305.0],\n",
       " [62.0, 8.72, 386126.0, 6671296.0],\n",
       " [63.0, 8.63, 386126.0, 6671288.0],\n",
       " [64.0, 8.04, 386126.0, 6671280.0],\n",
       " [65.0, 8.61, 386126.0, 6671271.0],\n",
       " [66.0, 8.17, 386127.0, 6671263.0],\n",
       " [67.0, 8.61, 386127.0, 6671254.0],\n",
       " [68.0, 7.84, 386127.0, 6671246.0],\n",
       " [69.0, 7.61, 386127.0, 6671239.0],\n",
       " [70.0, 8.18, 386127.0, 6671231.0],\n",
       " [71.0, 8.82, 386128.0, 6671222.0],\n",
       " [72.0, 7.78, 386128.0, 6671214.0],\n",
       " [73.0, 7.8, 386128.0, 6671206.0],\n",
       " [74.0, 8.02, 386128.0, 6671198.0],\n",
       " [75.0, 8.27, 386129.0, 6671190.0],\n",
       " [76.0, 8.33, 386129.0, 6671182.0],\n",
       " [77.0, 7.81, 386129.0, 6671174.0],\n",
       " [78.0, 8.36, 386129.0, 6671165.0],\n",
       " [79.0, 7.9, 386130.0, 6671157.0],\n",
       " [80.0, 8.14, 386130.0, 6671149.0]]"
      ]
     },
     "execution_count": 63,
     "metadata": {},
     "output_type": "execute_result"
    }
   ],
   "source": [
    "bus_location[1]"
   ]
  },
  {
   "cell_type": "code",
   "execution_count": 37,
   "metadata": {},
   "outputs": [],
   "source": [
    "link=r'D:\\Lab\\Vfogsim\\Python_code\\Data\\simulation'\n",
    "bus_0 = open(\n",
    "            link  + \"bus_0.ALD\", \"w\")\n",
    "bus_1 = open(\n",
    "            link  + \"bus_1.ALD\", \"w\")\n",
    "bus_2 = open(\n",
    "            link  + \"bus_2.ALD\", \"w\")\n",
    "bus_3 = open(\n",
    "            link  + \"bus_3.ALD\", \"w\")\n",
    "bus_4 = open(\n",
    "            link  + \"bus_4.ALD\", \"w\")\n",
    "bus_5 = open(\n",
    "            link  + \"bus_5.ALD\", \"w\")\n",
    "bus_6 = open(\n",
    "            link  + \"bus_6.ALD\", \"w\")\n",
    "bus_7 = open(\n",
    "            link  + \"bus_7.ALD\", \"w\")"
   ]
  },
  {
   "cell_type": "code",
   "execution_count": 44,
   "metadata": {},
   "outputs": [],
   "source": [
    "from math import radians, cos, sin, asin, sqrt\n",
    "import numpy as np\n",
    "import random\n",
    "from geopy.distance import geodesic\n",
    "from pyproj import Proj, transform"
   ]
  },
  {
   "cell_type": "code",
   "execution_count": 45,
   "metadata": {},
   "outputs": [],
   "source": [
    "def utm_to_latlon(easting, northing, zone_number=35, zone_letter='V'):\n",
    "    p1 = Proj(proj='utm', zone=zone_number, ellps='WGS84', datum='WGS84')\n",
    "    lon, lat = p1(easting, northing, inverse=True)\n",
    "    return lat, lon\n",
    "\n",
    "def distance_between_points(lat1, lon1, lat2, lon2):\n",
    "    return geodesic((lat1, lon1), (lat2, lon2)).kilometers"
   ]
  },
  {
   "cell_type": "code",
   "execution_count": 52,
   "metadata": {},
   "outputs": [],
   "source": [
    "for i in range(8):\n",
    "    file_name = f\"bus_{i}.ALD\"\n",
    "    with open(link + file_name, \"w\") as file:\n",
    "        z=0\n",
    "        for k in range(1, len(bus_location[i])):\n",
    "            past=bus_location[i][k-1]\n",
    "            now=bus_location[i][k]\n",
    "            speed=past[1]\n",
    "            x1,y1=past[2],past[3]\n",
    "            x2,y2=now[2],now[3]\n",
    "            x=x2-x1\n",
    "            y=y2-y1\n",
    "            b = x**2 + y**2  # Using ** for exponentiation\n",
    "            a=sqrt(b)\n",
    "            lat1,lng1=utm_to_latlon(x1,y1)\n",
    "            lat2,lng2=utm_to_latlon(x2,y2)\n",
    "            z+=distance_between_points(lat1,lng1,lat2,lng2)*1000\n",
    "            if a==0:\n",
    "                a=1\n",
    "            file.write(f\"TRANSLATION ALD {round(x/a, 4)} {round(y/a, 4)} 0.00000 {round(z,2)} {speed}\"+\"\\n\")\n",
    "\n",
    "    "
   ]
  },
  {
   "cell_type": "code",
   "execution_count": null,
   "metadata": {},
   "outputs": [],
   "source": []
  }
 ],
 "metadata": {
  "kernelspec": {
   "display_name": "Python 3",
   "language": "python",
   "name": "python3"
  },
  "language_info": {
   "codemirror_mode": {
    "name": "ipython",
    "version": 3
   },
   "file_extension": ".py",
   "mimetype": "text/x-python",
   "name": "python",
   "nbconvert_exporter": "python",
   "pygments_lexer": "ipython3",
   "version": "3.12.1"
  }
 },
 "nbformat": 4,
 "nbformat_minor": 2
}
